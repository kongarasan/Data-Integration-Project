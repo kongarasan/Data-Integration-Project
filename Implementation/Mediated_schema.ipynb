{
 "cells": [
  {
   "cell_type": "code",
   "execution_count": 1,
   "id": "3dbea378-4a8e-4916-a9ef-37293e55e91f",
   "metadata": {},
   "outputs": [],
   "source": [
    "import pandas as pd\n",
    "import numpy as np"
   ]
  },
  {
   "cell_type": "code",
   "execution_count": 17,
   "id": "95d7e3bf-8b42-4548-9135-3bde46b75346",
   "metadata": {},
   "outputs": [],
   "source": [
    "amazon_df = pd.read_excel('/Users/apple/Desktop/SemanticDataIntegration/Dataset/Dataset1_Amazon.xlsx')\n",
    "goodreads_df = pd.read_csv('/Users/apple/Desktop/SemanticDataIntegration/Dataset/Dataset2_GoodReads.csv')\n",
    "kindle_df = pd.read_csv('/Users/apple/Desktop/SemanticDataIntegration/Dataset/Dataset3_Kindle.csv')"
   ]
  },
  {
   "cell_type": "code",
   "execution_count": 53,
   "id": "f9d9c5ac-2790-40de-8533-40bd68c967c0",
   "metadata": {},
   "outputs": [
    {
     "name": "stdout",
     "output_type": "stream",
     "text": [
      "['source_url', 'readers choice votes', 'readers choice category', 'title', 'author', 'total avg rating', 'number of ratings', 'number of reviews', 'number of pages', 'edition', 'book description', 'first published date', 'kindle version and price', 'kindle price', 'about the author']\n"
     ]
    }
   ],
   "source": [
    "print(goodreads_df.columns.tolist())"
   ]
  },
  {
   "cell_type": "code",
   "execution_count": 57,
   "id": "9dfa9a69-3d26-4773-a079-1b19e6e0c472",
   "metadata": {},
   "outputs": [
    {
     "name": "stdout",
     "output_type": "stream",
     "text": [
      "['asin', 'title', 'author', 'soldby', 'imgurl', 'producturl', 'stars', 'reviews', 'price', 'iskindleunlimited', 'category_id', 'isbestseller', 'iseditorspick', 'isgoodreadschoice', 'publisheddate', 'category_name']\n"
     ]
    }
   ],
   "source": [
    "print(kindle_df.columns.tolist())\n"
   ]
  },
  {
   "cell_type": "code",
   "execution_count": 65,
   "id": "37459f55-e974-454d-9152-81347fb9c577",
   "metadata": {},
   "outputs": [
    {
     "name": "stdout",
     "output_type": "stream",
     "text": [
      "✅ Merged CSV saved as 'mediated_schema.csv'\n"
     ]
    }
   ],
   "source": [
    "# Amazon\n",
    "amazon_df_renamed = amazon_df.rename(columns={\n",
    "    'no_of_reviews': 'review_count',\n",
    "    'ratings': 'rating',\n",
    "    'year': 'publication_year'\n",
    "})\n",
    "\n",
    "# Goodreads\n",
    "goodreads_df_renamed = goodreads_df.rename(columns={\n",
    "    'title': 'title',\n",
    "    'author': 'author',\n",
    "    'total avg rating': 'rating',\n",
    "    'number of reviews': 'review_count',\n",
    "    'kindle price': 'price',\n",
    "    'first published date': 'publication_year'\n",
    "})\n",
    "\n",
    "# Kindle — FIX: 'publisheddate' is lowercase\n",
    "kindle_df_renamed = kindle_df.rename(columns={\n",
    "    'stars': 'rating',\n",
    "    'reviews': 'review_count',\n",
    "    'price': 'price',\n",
    "    'publisheddate': 'publication_year'\n",
    "})\n",
    "\n",
    "# --- Step 3: Select relevant columns ---\n",
    "\n",
    "amazon_df_clean = amazon_df_renamed[['title', 'author', 'rating', 'review_count', 'price', 'publication_year']]\n",
    "goodreads_df_clean = goodreads_df_renamed[['title', 'author', 'rating', 'review_count', 'price', 'publication_year']]\n",
    "\n",
    "# Kindle – title and author not available, fill with None\n",
    "kindle_df_clean = kindle_df_renamed[['rating', 'review_count', 'price', 'publication_year']].copy()\n",
    "kindle_df_clean['title'] = None\n",
    "kindle_df_clean['author'] = None\n",
    "kindle_df_clean = kindle_df_clean[['title', 'author', 'rating', 'review_count', 'price', 'publication_year']]\n",
    "\n",
    "# --- Step 4: Merge all datasets ---\n",
    "merged_df = pd.concat([amazon_df_clean, goodreads_df_clean, kindle_df_clean], ignore_index=True)\n",
    "\n",
    "# --- Step 5: Export the merged CSV ---\n",
    "merged_df.to_csv('mediated_schema.csv', index=False)\n",
    "\n",
    "print(\"✅ Merged CSV saved as 'mediated_schema.csv'\")"
   ]
  },
  {
   "cell_type": "code",
   "execution_count": 67,
   "id": "1a7718d5-7b47-49a5-96c3-336998b16482",
   "metadata": {},
   "outputs": [
    {
     "name": "stderr",
     "output_type": "stream",
     "text": [
      "/var/folders/dy/7r746_5n72x5ql9p02gqf_lm0000gn/T/ipykernel_77541/4076298577.py:1: DtypeWarning: Columns (0,1,3) have mixed types. Specify dtype option on import or set low_memory=False.\n",
      "  pd.read_csv('/Users/apple/Desktop/SemanticDataIntegration/Dataset/mediated_schema.csv')\n"
     ]
    },
    {
     "data": {
      "text/html": [
       "<div>\n",
       "<style scoped>\n",
       "    .dataframe tbody tr th:only-of-type {\n",
       "        vertical-align: middle;\n",
       "    }\n",
       "\n",
       "    .dataframe tbody tr th {\n",
       "        vertical-align: top;\n",
       "    }\n",
       "\n",
       "    .dataframe thead th {\n",
       "        text-align: right;\n",
       "    }\n",
       "</style>\n",
       "<table border=\"1\" class=\"dataframe\">\n",
       "  <thead>\n",
       "    <tr style=\"text-align: right;\">\n",
       "      <th></th>\n",
       "      <th>title</th>\n",
       "      <th>author</th>\n",
       "      <th>rating</th>\n",
       "      <th>review_count</th>\n",
       "      <th>price</th>\n",
       "      <th>publication_year</th>\n",
       "    </tr>\n",
       "  </thead>\n",
       "  <tbody>\n",
       "    <tr>\n",
       "      <th>0</th>\n",
       "      <td>The Lost Symbol</td>\n",
       "      <td>Dan Brown</td>\n",
       "      <td>4.4</td>\n",
       "      <td>16118.0</td>\n",
       "      <td>12.49</td>\n",
       "      <td>2009</td>\n",
       "    </tr>\n",
       "    <tr>\n",
       "      <th>1</th>\n",
       "      <td>The Shack: Where Tragedy Confronts Eternity</td>\n",
       "      <td>William P. Young</td>\n",
       "      <td>4.7</td>\n",
       "      <td>23392.0</td>\n",
       "      <td>13.40</td>\n",
       "      <td>2009</td>\n",
       "    </tr>\n",
       "    <tr>\n",
       "      <th>2</th>\n",
       "      <td>Liberty and Tyranny: A Conservative Manifesto</td>\n",
       "      <td>Mark R. Levin</td>\n",
       "      <td>4.8</td>\n",
       "      <td>5036.0</td>\n",
       "      <td>9.93</td>\n",
       "      <td>2009</td>\n",
       "    </tr>\n",
       "    <tr>\n",
       "      <th>3</th>\n",
       "      <td>Breaking Dawn (The Twilight Saga, Book 4)</td>\n",
       "      <td>Stephenie Meyer</td>\n",
       "      <td>4.7</td>\n",
       "      <td>16912.0</td>\n",
       "      <td>14.30</td>\n",
       "      <td>2009</td>\n",
       "    </tr>\n",
       "    <tr>\n",
       "      <th>4</th>\n",
       "      <td>Going Rogue: An American Life</td>\n",
       "      <td>Sarah Palin</td>\n",
       "      <td>4.6</td>\n",
       "      <td>1572.0</td>\n",
       "      <td>9.99</td>\n",
       "      <td>2009</td>\n",
       "    </tr>\n",
       "    <tr>\n",
       "      <th>...</th>\n",
       "      <td>...</td>\n",
       "      <td>...</td>\n",
       "      <td>...</td>\n",
       "      <td>...</td>\n",
       "      <td>...</td>\n",
       "      <td>...</td>\n",
       "    </tr>\n",
       "    <tr>\n",
       "      <th>134687</th>\n",
       "      <td>NaN</td>\n",
       "      <td>NaN</td>\n",
       "      <td>4.7</td>\n",
       "      <td>0</td>\n",
       "      <td>0.00</td>\n",
       "      <td>2023-09-15</td>\n",
       "    </tr>\n",
       "    <tr>\n",
       "      <th>134688</th>\n",
       "      <td>NaN</td>\n",
       "      <td>NaN</td>\n",
       "      <td>4.4</td>\n",
       "      <td>0</td>\n",
       "      <td>9.99</td>\n",
       "      <td>2021-09-30</td>\n",
       "    </tr>\n",
       "    <tr>\n",
       "      <th>134689</th>\n",
       "      <td>NaN</td>\n",
       "      <td>NaN</td>\n",
       "      <td>4.8</td>\n",
       "      <td>0</td>\n",
       "      <td>1.99</td>\n",
       "      <td>2023-09-15</td>\n",
       "    </tr>\n",
       "    <tr>\n",
       "      <th>134690</th>\n",
       "      <td>NaN</td>\n",
       "      <td>NaN</td>\n",
       "      <td>4.7</td>\n",
       "      <td>0</td>\n",
       "      <td>0.00</td>\n",
       "      <td>2023-08-25</td>\n",
       "    </tr>\n",
       "    <tr>\n",
       "      <th>134691</th>\n",
       "      <td>NaN</td>\n",
       "      <td>NaN</td>\n",
       "      <td>4.7</td>\n",
       "      <td>0</td>\n",
       "      <td>0.00</td>\n",
       "      <td>2023-10-01</td>\n",
       "    </tr>\n",
       "  </tbody>\n",
       "</table>\n",
       "<p>134692 rows × 6 columns</p>\n",
       "</div>"
      ],
      "text/plain": [
       "                                                title            author  \\\n",
       "0                                     The Lost Symbol         Dan Brown   \n",
       "1         The Shack: Where Tragedy Confronts Eternity  William P. Young   \n",
       "2       Liberty and Tyranny: A Conservative Manifesto     Mark R. Levin   \n",
       "3           Breaking Dawn (The Twilight Saga, Book 4)   Stephenie Meyer   \n",
       "4                       Going Rogue: An American Life       Sarah Palin   \n",
       "...                                               ...               ...   \n",
       "134687                                            NaN               NaN   \n",
       "134688                                            NaN               NaN   \n",
       "134689                                            NaN               NaN   \n",
       "134690                                            NaN               NaN   \n",
       "134691                                            NaN               NaN   \n",
       "\n",
       "        rating review_count  price publication_year  \n",
       "0          4.4      16118.0  12.49             2009  \n",
       "1          4.7      23392.0  13.40             2009  \n",
       "2          4.8       5036.0   9.93             2009  \n",
       "3          4.7      16912.0  14.30             2009  \n",
       "4          4.6       1572.0   9.99             2009  \n",
       "...        ...          ...    ...              ...  \n",
       "134687     4.7            0   0.00       2023-09-15  \n",
       "134688     4.4            0   9.99       2021-09-30  \n",
       "134689     4.8            0   1.99       2023-09-15  \n",
       "134690     4.7            0   0.00       2023-08-25  \n",
       "134691     4.7            0   0.00       2023-10-01  \n",
       "\n",
       "[134692 rows x 6 columns]"
      ]
     },
     "execution_count": 67,
     "metadata": {},
     "output_type": "execute_result"
    }
   ],
   "source": [
    "pd.read_csv('/Users/apple/Desktop/SemanticDataIntegration/Dataset/mediated_schema.csv')"
   ]
  },
  {
   "cell_type": "code",
   "execution_count": null,
   "id": "1f8be2db-031a-420a-9fcc-b3f06643b7c8",
   "metadata": {},
   "outputs": [],
   "source": []
  }
 ],
 "metadata": {
  "kernelspec": {
   "display_name": "Python 3 (ipykernel)",
   "language": "python",
   "name": "python3"
  },
  "language_info": {
   "codemirror_mode": {
    "name": "ipython",
    "version": 3
   },
   "file_extension": ".py",
   "mimetype": "text/x-python",
   "name": "python",
   "nbconvert_exporter": "python",
   "pygments_lexer": "ipython3",
   "version": "3.12.4"
  }
 },
 "nbformat": 4,
 "nbformat_minor": 5
}
